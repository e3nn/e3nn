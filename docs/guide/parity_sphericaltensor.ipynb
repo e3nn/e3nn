{
 "cells": [
  {
   "cell_type": "markdown",
   "metadata": {},
   "source": [
    "# Parity and SphericalTensor"
   ]
  },
  {
   "cell_type": "code",
   "execution_count": null,
   "metadata": {},
   "outputs": [],
   "source": [
    "import torch\n",
    "from e3nn.io import SphericalTensor\n",
    "import plotly.graph_objects as go\n",
    "\n",
    "axis = dict(\n",
    "    showbackground=False,\n",
    "    showticklabels=False,\n",
    "    showgrid=False,\n",
    "    zeroline=False,\n",
    "    title='',\n",
    "    nticks=3,\n",
    ")\n",
    "\n",
    "layout = dict(\n",
    "    width=800,\n",
    "    height=300,\n",
    "    scene=dict(\n",
    "        xaxis=dict(\n",
    "            **axis,\n",
    "            range=[-4, 4]\n",
    "        ),\n",
    "        yaxis=dict(\n",
    "            **axis,\n",
    "            range=[-1, 1]\n",
    "        ),\n",
    "        zaxis=dict(\n",
    "            **axis,\n",
    "            range=[-1, 1]\n",
    "        ),\n",
    "        aspectmode='manual',\n",
    "        aspectratio=dict(x=4, y=1, z=1),\n",
    "        camera=dict(\n",
    "            up=dict(x=0, y=0, z=1),\n",
    "            center=dict(x=0, y=0, z=0),\n",
    "            eye=dict(x=0, y=-5, z=0),\n",
    "            projection=dict(type='orthographic'),\n",
    "        ),\n",
    "    ),\n",
    "    paper_bgcolor=\"rgba(0,0,0,0)\",\n",
    "    plot_bgcolor=\"rgba(0,0,0,0)\",\n",
    "    margin=dict(l=0, r=0, t=0, b=0)\n",
    ")\n",
    "\n",
    "cmap_bwr = [[0, 'rgb(0,50,255)'], [0.5, 'rgb(200,200,200)'], [1, 'rgb(255,50,0)']]\n",
    "    \n",
    "def plot(traces):\n",
    "    traces = [go.Surface(**d, colorscale=cmap_bwr, cmin=-4, cmax=4) for d in traces]\n",
    "    fig = go.Figure(data=traces, layout=layout)\n",
    "    fig.show()"
   ]
  },
  {
   "cell_type": "code",
   "execution_count": null,
   "metadata": {},
   "outputs": [],
   "source": [
    "lmax = 6\n",
    "x = torch.randn((lmax + 1)**2)\n",
    "\n",
    "x = torch.stack([\n",
    "    SphericalTensor(lmax, p_val, p_arg).D_from_matrix(-torch.eye(3)) @ x\n",
    "    for p_val in [+1, -1]\n",
    "    for p_arg in [+1, -1]\n",
    "])\n",
    "centers = torch.tensor([\n",
    "    [-3.0, 0.0, 0.0],\n",
    "    [-1.0, 0.0, 0.0],\n",
    "    [1.0, 0.0, 0.0],\n",
    "    [3.0, 0.0, 0.0],\n",
    "])"
   ]
  },
  {
   "cell_type": "markdown",
   "metadata": {},
   "source": [
    "$[Pf](x) = ...$\n",
    "- `p_val=1, p_arg=1 => ` $f(x)$\n",
    "- `p_val=1, p_arg=-1 => ` $f(-x)$\n",
    "- `p_val=-1, p_arg=1 => ` $-f(x)$\n",
    "- `p_val=-1, p_arg=-1 => ` $-f(-x)$"
   ]
  },
  {
   "cell_type": "code",
   "execution_count": null,
   "metadata": {},
   "outputs": [],
   "source": [
    "st = SphericalTensor(lmax, 1, 1)\n",
    "plot(st.plotly_surface(x, centers=centers, radius=False))"
   ]
  },
  {
   "cell_type": "code",
   "execution_count": null,
   "metadata": {},
   "outputs": [],
   "source": []
  }
 ],
 "metadata": {
  "kernelspec": {
   "display_name": "Python 3",
   "language": "python",
   "name": "python3"
  },
  "language_info": {
   "codemirror_mode": {
    "name": "ipython",
    "version": 3
   },
   "file_extension": ".py",
   "mimetype": "text/x-python",
   "name": "python",
   "nbconvert_exporter": "python",
   "pygments_lexer": "ipython3",
   "version": "3.8.5"
  }
 },
 "nbformat": 4,
 "nbformat_minor": 4
}